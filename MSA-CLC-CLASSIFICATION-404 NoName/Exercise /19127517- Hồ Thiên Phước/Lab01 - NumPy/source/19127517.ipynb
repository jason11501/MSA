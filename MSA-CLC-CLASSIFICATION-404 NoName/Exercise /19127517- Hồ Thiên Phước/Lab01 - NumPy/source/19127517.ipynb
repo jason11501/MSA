{
 "cells": [
  {
   "cell_type": "code",
   "execution_count": 1,
   "id": "35f30d75",
   "metadata": {},
   "outputs": [],
   "source": [
    "import numpy as np"
   ]
  },
  {
   "cell_type": "code",
   "execution_count": 3,
   "id": "7e7190ad",
   "metadata": {},
   "outputs": [
    {
     "name": "stdout",
     "output_type": "stream",
     "text": [
      "Mean X =  3.0\n",
      "Mean X =  2.5\n",
      "Mean X with axis = 0:  [2. 3.]\n",
      "Mean X with axis = 1:  [1.5 3.5]\n",
      "a.shape:  (2, 262144)\n",
      "mean a =  0.54999924\n",
      "mean a =  0.5500000007450581\n",
      "Median X =  3.0\n",
      "Median Y =  6.0\n",
      "median arr (axis = 0) =  [5.  6.5 3.5]\n",
      "median arr (axis = 1) =  [4. 5.]\n"
     ]
    }
   ],
   "source": [
    "# Mean\n",
    "X = [1, 2, 3, 4, 5]\n",
    "print(\"Mean X = \", np.mean(X))\n",
    "X = np.array([[1, 2], [3, 4]])\n",
    "print(\"Mean X = \", np.mean(X))\n",
    "print(\"Mean X with axis = 0: \", np.mean(X, axis=0))\n",
    "print(\"Mean X with axis = 1: \", np.mean(X, axis=1))\n",
    "a = np.zeros((2, 512 * 512), dtype=np.float32)\n",
    "a[0, :] = 1.0\n",
    "a[1, :] = 0.1\n",
    "print(\"a.shape: \", a.shape)\n",
    "print(\"mean a = \", np.mean(a))\n",
    "print(\"mean a = \", np.mean(a, dtype=np.float64))\n",
    "# Median\n",
    "X = np.array([2, 5, 3, 1, 7])\n",
    "Y = np.array([2, 1, 8, 5, 7, 9])\n",
    "print(\"Median X = \", np.median(X))\n",
    "print(\"Median Y = \", np.median(Y))\n",
    "arr = np.array([[7, 4, 2], [3, 9, 5]])\n",
    "print(\"median arr (axis = 0) = \", np.median(arr, axis=0))\n",
    "print(\"median arr (axis = 1) = \", np.median(arr, axis=1))"
   ]
  },
  {
   "cell_type": "code",
   "execution_count": 4,
   "id": "7144a4d7",
   "metadata": {},
   "outputs": [
    {
     "name": "stdout",
     "output_type": "stream",
     "text": [
      "mean =  nan\n",
      "median =  nan\n",
      "mean =  5.333333333333333\n",
      "median =  5.0\n"
     ]
    }
   ],
   "source": [
    "# Mean & Median with NaN\n",
    "x = np.array([2, np.nan, 5, 9])\n",
    "print(\"mean = \", np.mean(x))\n",
    "print(\"median = \", np.median(x))\n",
    "print(\"mean = \", np.nanmean(x))\n",
    "print(\"median = \", np.nanmedian(x))"
   ]
  },
  {
   "cell_type": "code",
   "execution_count": 5,
   "id": "3b960f3b",
   "metadata": {},
   "outputs": [
    {
     "name": "stdout",
     "output_type": "stream",
     "text": [
      "Variance:  178.51530612244895\n",
      "Standard Deviation:  13.360962020844493\n",
      "var =  nan\n",
      "std =  nan\n",
      "nan var =  1.5555555555555554\n",
      "nan std =  1.247219128924647\n"
     ]
    }
   ],
   "source": [
    "# Variance & Standard Deviation\n",
    "X = [19, 33, 51, 22, 18, 13, 45, 24, 58, 11, 25, 27, 26, 29]\n",
    "print(\"Variance: \", np.var(X))\n",
    "print(\"Standard Deviation: \", np.std(X))\n",
    "# Variance & Standard Deviation with NaN\n",
    "A = np.array([1, np.nan, 3, 4])\n",
    "print(\"var = \", np.var(A))\n",
    "print(\"std = \", np.std(A))\n",
    "print(\"nan var = \", np.nanvar(A))\n",
    "print(\"nan std = \", np.nanstd(A))"
   ]
  },
  {
   "cell_type": "code",
   "execution_count": 7,
   "id": "0b716ad1",
   "metadata": {},
   "outputs": [
    {
     "name": "stdout",
     "output_type": "stream",
     "text": [
      "X =  [[14 96]\n",
      " [46 82]\n",
      " [80 67]\n",
      " [77 91]\n",
      " [99 87]]\n",
      "Max:  99\n",
      "Min:  14\n",
      "Max (axis = 0):  [99 96]\n",
      "Min (axis = 1):  [96 82 80 91 99]\n",
      "X =  [[14. 96.]\n",
      " [nan 82.]\n",
      " [80. 67.]\n",
      " [77. nan]\n",
      " [99. 87.]]\n",
      "Max:  99.0\n",
      "Min:  14.0\n"
     ]
    }
   ],
   "source": [
    "# Order statistics\n",
    "X = np.array([[14, 96],\n",
    "[46, 82],\n",
    "[80, 67],\n",
    "[77, 91],\n",
    "[99, 87]])\n",
    "print(\"X = \", X)\n",
    "print(\"Max: \", np.amax(X))\n",
    "print(\"Min: \", np.amin(X))\n",
    "print(\"Max (axis = 0): \", np.amax(X, axis=0))\n",
    "print(\"Min (axis = 1): \", np.amax(X, axis=1))\n",
    "# Order statistics with NaN\n",
    "X = np.array([[14, 96],\n",
    "[np.nan, 82],\n",
    "[80, 67],\n",
    "[77, np.nan],\n",
    "[99, 87]])\n",
    "print(\"X = \", X)\n",
    "print(\"Max: \", np.nanmax(X))\n",
    "print(\"Min: \", np.nanmin(X))"
   ]
  },
  {
   "cell_type": "code",
   "execution_count": 8,
   "id": "b3dbee79",
   "metadata": {},
   "outputs": [
    {
     "name": "stdout",
     "output_type": "stream",
     "text": [
      "x =  [[14 96]\n",
      " [46 82]\n",
      " [80 67]\n",
      " [77 91]\n",
      " [99 87]]\n",
      "Range =  85\n",
      "Range (axis = 0) =  [85 29]\n",
      "Range (axis = 1) =  [82 36 13 14 12]\n"
     ]
    }
   ],
   "source": [
    "# Range\n",
    "X = np.array([[14, 96],\n",
    "[46, 82],\n",
    "[80, 67],\n",
    "[77, 91],\n",
    "[99, 87]])\n",
    "print(\"x = \", X)\n",
    "print(\"Range = \", np.ptp(X))\n",
    "print(\"Range (axis = 0) = \", np.ptp(X, axis=0))\n",
    "print(\"Range (axis = 1) = \", np.ptp(X, axis=1))"
   ]
  }
 ],
 "metadata": {
  "kernelspec": {
   "display_name": "Python 3 (ipykernel)",
   "language": "python",
   "name": "python3"
  },
  "language_info": {
   "codemirror_mode": {
    "name": "ipython",
    "version": 3
   },
   "file_extension": ".py",
   "mimetype": "text/x-python",
   "name": "python",
   "nbconvert_exporter": "python",
   "pygments_lexer": "ipython3",
   "version": "3.9.7"
  }
 },
 "nbformat": 4,
 "nbformat_minor": 5
}
